{
 "cells": [
  {
   "cell_type": "markdown",
   "metadata": {},
   "source": [
    "### Diabetes Prediction System "
   ]
  },
  {
   "cell_type": "code",
   "execution_count": 1,
   "metadata": {},
   "outputs": [],
   "source": [
    "import numpy as np \n",
    "import pandas as pd \n",
    "\n",
    "from sklearn.model_selection import train_test_split\n",
    "from sklearn.tree import DecisionTreeClassifier\n",
    "from sklearn.model_selection import RandomizedSearchCV\n",
    "from sklearn.ensemble import RandomForestClassifier\n",
    "from xgboost import XGBClassifier\n",
    "from sklearn.feature_selection import SelectFromModel\n",
    "from catboost import CatBoostClassifier\n",
    "\n",
    "\n",
    "import warnings  \n",
    "warnings.filterwarnings('ignore')\n",
    "import seaborn as sns \n",
    "import matplotlib.pyplot as plt  \n",
    "%matplotlib inline "
   ]
  },
  {
   "cell_type": "markdown",
   "metadata": {},
   "source": [
    "#### Exploring the data "
   ]
  },
  {
   "cell_type": "code",
   "execution_count": 2,
   "metadata": {},
   "outputs": [
    {
     "data": {
      "text/html": [
       "<div>\n",
       "<style scoped>\n",
       "    .dataframe tbody tr th:only-of-type {\n",
       "        vertical-align: middle;\n",
       "    }\n",
       "\n",
       "    .dataframe tbody tr th {\n",
       "        vertical-align: top;\n",
       "    }\n",
       "\n",
       "    .dataframe thead th {\n",
       "        text-align: right;\n",
       "    }\n",
       "</style>\n",
       "<table border=\"1\" class=\"dataframe\">\n",
       "  <thead>\n",
       "    <tr style=\"text-align: right;\">\n",
       "      <th></th>\n",
       "      <th>Pregnancies</th>\n",
       "      <th>Glucose</th>\n",
       "      <th>BloodPressure</th>\n",
       "      <th>SkinThickness</th>\n",
       "      <th>Insulin</th>\n",
       "      <th>BMI</th>\n",
       "      <th>DiabetesPedigreeFunction</th>\n",
       "      <th>Age</th>\n",
       "      <th>Outcome</th>\n",
       "    </tr>\n",
       "  </thead>\n",
       "  <tbody>\n",
       "    <tr>\n",
       "      <th>0</th>\n",
       "      <td>6</td>\n",
       "      <td>148</td>\n",
       "      <td>72</td>\n",
       "      <td>35</td>\n",
       "      <td>0</td>\n",
       "      <td>33.6</td>\n",
       "      <td>0.627</td>\n",
       "      <td>50</td>\n",
       "      <td>1</td>\n",
       "    </tr>\n",
       "    <tr>\n",
       "      <th>1</th>\n",
       "      <td>1</td>\n",
       "      <td>85</td>\n",
       "      <td>66</td>\n",
       "      <td>29</td>\n",
       "      <td>0</td>\n",
       "      <td>26.6</td>\n",
       "      <td>0.351</td>\n",
       "      <td>31</td>\n",
       "      <td>0</td>\n",
       "    </tr>\n",
       "    <tr>\n",
       "      <th>2</th>\n",
       "      <td>8</td>\n",
       "      <td>183</td>\n",
       "      <td>64</td>\n",
       "      <td>0</td>\n",
       "      <td>0</td>\n",
       "      <td>23.3</td>\n",
       "      <td>0.672</td>\n",
       "      <td>32</td>\n",
       "      <td>1</td>\n",
       "    </tr>\n",
       "    <tr>\n",
       "      <th>3</th>\n",
       "      <td>1</td>\n",
       "      <td>89</td>\n",
       "      <td>66</td>\n",
       "      <td>23</td>\n",
       "      <td>94</td>\n",
       "      <td>28.1</td>\n",
       "      <td>0.167</td>\n",
       "      <td>21</td>\n",
       "      <td>0</td>\n",
       "    </tr>\n",
       "    <tr>\n",
       "      <th>4</th>\n",
       "      <td>0</td>\n",
       "      <td>137</td>\n",
       "      <td>40</td>\n",
       "      <td>35</td>\n",
       "      <td>168</td>\n",
       "      <td>43.1</td>\n",
       "      <td>2.288</td>\n",
       "      <td>33</td>\n",
       "      <td>1</td>\n",
       "    </tr>\n",
       "  </tbody>\n",
       "</table>\n",
       "</div>"
      ],
      "text/plain": [
       "   Pregnancies  Glucose  BloodPressure  SkinThickness  Insulin   BMI  \\\n",
       "0            6      148             72             35        0  33.6   \n",
       "1            1       85             66             29        0  26.6   \n",
       "2            8      183             64              0        0  23.3   \n",
       "3            1       89             66             23       94  28.1   \n",
       "4            0      137             40             35      168  43.1   \n",
       "\n",
       "   DiabetesPedigreeFunction  Age  Outcome  \n",
       "0                     0.627   50        1  \n",
       "1                     0.351   31        0  \n",
       "2                     0.672   32        1  \n",
       "3                     0.167   21        0  \n",
       "4                     2.288   33        1  "
      ]
     },
     "execution_count": 2,
     "metadata": {},
     "output_type": "execute_result"
    }
   ],
   "source": [
    "data = pd.read_csv(\"diabetes.csv\") \n",
    "data.head()"
   ]
  },
  {
   "cell_type": "code",
   "execution_count": 3,
   "metadata": {},
   "outputs": [
    {
     "name": "stdout",
     "output_type": "stream",
     "text": [
      "X-Training Shape:-  (614, 8)\n",
      "X-Testing Shape:-  (154, 8)\n",
      "y-Training Shape:-  (614,)\n",
      "y-Testing Shape:-  (154,)\n"
     ]
    }
   ],
   "source": [
    "# ==================== Dividing the data into training and testing sets ==================\n",
    "X = data.drop(\"Outcome\", axis=1) \n",
    "y = data[\"Outcome\"] \n",
    "\n",
    "X_train, X_test, y_train, y_test = train_test_split(X,y,test_size=0.2, random_state=0)  \n",
    "\n",
    "print(\"X-Training Shape:- \", X_train.shape) \n",
    "print(\"X-Testing Shape:- \", X_test.shape) \n",
    "print(\"y-Training Shape:- \", y_train.shape) \n",
    "print(\"y-Testing Shape:- \", y_test.shape) "
   ]
  },
  {
   "cell_type": "code",
   "execution_count": 4,
   "metadata": {
    "scrolled": true
   },
   "outputs": [
    {
     "data": {
      "image/png": "[encoded data removed]",
      "text/plain": [
       "<Figure size 432x288 with 1 Axes>"
      ]
     },
     "metadata": {
      "needs_background": "light"
     },
     "output_type": "display_data"
    },
    {
     "data": {
      "image/png": "[encoded data removed]",
      "text/plain": [
       "<Figure size 432x288 with 1 Axes>"
      ]
     },
     "metadata": {
      "needs_background": "light"
     },
     "output_type": "display_data"
    },
    {
     "data": {
      "image/png": "[encoded data removed]",
      "text/plain": [
       "<Figure size 432x288 with 1 Axes>"
      ]
     },
     "metadata": {
      "needs_background": "light"
     },
     "output_type": "display_data"
    },
    {
     "data": {
      "image/png": "[encoded data removed]",
      "text/plain": [
       "<Figure size 432x288 with 1 Axes>"
      ]
     },
     "metadata": {
      "needs_background": "light"
     },
     "output_type": "display_data"
    },
    {
     "data": {
      "image/png": "[encoded data removed]",
      "text/plain": [
       "<Figure size 432x288 with 1 Axes>"
      ]
     },
     "metadata": {
      "needs_background": "light"
     },
     "output_type": "display_data"
    },
    {
     "data": {
      "image/png": "[encoded data removed]",
      "text/plain": [
       "<Figure size 432x288 with 1 Axes>"
      ]
     },
     "metadata": {
      "needs_background": "light"
     },
     "output_type": "display_data"
    },
    {
     "data": {
      "image/png": "[encoded data removed]",
      "text/plain": [
       "<Figure size 432x288 with 1 Axes>"
      ]
     },
     "metadata": {
      "needs_background": "light"
     },
     "output_type": "display_data"
    },
    {
     "data": {
      "image/png": "[encoded data removed]",
      "text/plain": [
       "<Figure size 432x288 with 1 Axes>"
      ]
     },
     "metadata": {
      "needs_background": "light"
     },
     "output_type": "display_data"
    }
   ],
   "source": [
    "# ============================ Seeing the distribution of the data ======================\n",
    "for col in X.columns:\n",
    "    X_train.loc[:, col].hist()\n",
    "    plt.title(col)\n",
    "    plt.show()"
   ]
  },
  {
   "cell_type": "code",
   "execution_count": 5,
   "metadata": {
    "scrolled": true
   },
   "outputs": [
    {
     "data": {
      "image/png": "[encoded data removed]",
      "text/plain": [
       "<Figure size 432x288 with 1 Axes>"
      ]
     },
     "metadata": {
      "needs_background": "light"
     },
     "output_type": "display_data"
    },
    {
     "data": {
      "image/png": "[encoded data removed]",
      "text/plain": [
       "<Figure size 432x288 with 1 Axes>"
      ]
     },
     "metadata": {
      "needs_background": "light"
     },
     "output_type": "display_data"
    }
   ],
   "source": [
    "#  Checking Is there any null values in the training and testing sets? Ans = NO \n",
    "sns.heatmap(X_train.isnull(), cbar=False)\n",
    "plt.title(\"Training\")\n",
    "plt.show()\n",
    "\n",
    "sns.heatmap(X_test.isnull(), cbar=False)\n",
    "plt.title(\"Testting \")\n",
    "plt.show()"
   ]
  },
  {
   "cell_type": "markdown",
   "metadata": {},
   "source": [
    "#### Building the model "
   ]
  },
  {
   "cell_type": "code",
   "execution_count": 6,
   "metadata": {},
   "outputs": [],
   "source": [
    "def cindex(y_true, scores):  \n",
    "    ''' \n",
    "    Function for evaluating the models \n",
    "    info:- \n",
    "     - The c-index measures the discriminatory power of a risk score.\n",
    "     - A higher c-index indicates that the model's prediction is in agreement with the actual outcomes of a pair of patients.\n",
    "     - cindex  = concordant + 0.5 x ties / permissible \n",
    "    '''\n",
    "    n = len(y_true)\n",
    "    assert len(scores) == n\n",
    "    concordant = 0\n",
    "    permissible = 0\n",
    "    ties = 0\n",
    "    for i in range(n):\n",
    "        for j in range(i+1,n): \n",
    "            if y_true[i] != y_true[j]:\n",
    "                permissible = permissible + 1\n",
    "                if scores[i] == scores[j]:\n",
    "                    ties = ties + 1\n",
    "                    continue\n",
    "                if y_true[i] == 0 and y_true[j] == 1:\n",
    "                    if scores[i] < scores[j]:\n",
    "                        concordant = concordant + 1  \n",
    "                if y_true[i] == 1 and y_true[j] == 0:\n",
    "                    if scores[i] > scores[j]:\n",
    "                        concordant = concordant + 1\n",
    "\n",
    "    c_index =  (concordant + (0.5 * ties)) / permissible\n",
    "    return c_index"
   ]
  },
  {
   "cell_type": "markdown",
   "metadata": {},
   "source": [
    "#### Decision Trees "
   ]
  },
  {
   "cell_type": "code",
   "execution_count": 7,
   "metadata": {},
   "outputs": [
    {
     "name": "stdout",
     "output_type": "stream",
     "text": [
      "Train C-Index: 0.9059157426916744\n",
      "Val C-Index (expected > 0.6): 0.8101014118114933\n"
     ]
    }
   ],
   "source": [
    "### ===================== Building the decision tree model ========================================= \n",
    "\n",
    "dtc_hyperparams = { \n",
    "    \"max_depth\":5,\n",
    "    \"min_samples_split\" : 2\n",
    "}\n",
    "dtc = DecisionTreeClassifier(**dtc_hyperparams, random_state=10) \n",
    "dtc.fit(X_train, y_train) \n",
    "\n",
    "#  Evaluating using C-Index  \n",
    "\n",
    "y_train_preds = dtc.predict_proba(X_train)[:, 1] \n",
    "y_test_preds = dtc.predict_proba(X_test)[:, 1] \n",
    "\n",
    "print(f\"Train C-Index: {cindex(y_train.values, y_train_preds)}\")\n",
    "print(f\"Val C-Index (expected > 0.6): {cindex(y_test.values, y_test_preds)}\")"
   ]
  },
  {
   "cell_type": "markdown",
   "metadata": {},
   "source": [
    "#### Random Forest "
   ]
  },
  {
   "cell_type": "code",
   "execution_count": 8,
   "metadata": {},
   "outputs": [
    {
     "name": "stdout",
     "output_type": "stream",
     "text": [
      "Fitting 3 folds for each of 20 candidates, totalling 60 fits\n"
     ]
    },
    {
     "name": "stderr",
     "output_type": "stream",
     "text": [
      "[Parallel(n_jobs=-1)]: Using backend LokyBackend with 4 concurrent workers.\n",
      "[Parallel(n_jobs=-1)]: Done  33 tasks      | elapsed:    5.9s\n",
      "[Parallel(n_jobs=-1)]: Done  60 out of  60 | elapsed:    8.0s finished\n"
     ]
    },
    {
     "name": "stdout",
     "output_type": "stream",
     "text": [
      "{'n_estimators': 84, 'max_features': 'auto', 'max_depth': 5, 'bootstrap': False}\n"
     ]
    }
   ],
   "source": [
    "# ==================== Baseline and Tuning the model  ================================== \n",
    "\n",
    "rfc = RandomForestClassifier() \n",
    "\n",
    "max_depth = [int(x) for x in np.linspace(5, 10, num = 2)] \n",
    "max_depth.append(None)\n",
    "\n",
    "r_grid = {'n_estimators': [int(x) for x in np.linspace(start =80 , stop = 100, num = 10)],\n",
    "        'max_features':  ['auto', 'log2'],\n",
    "        'max_depth': max_depth,\n",
    "        'bootstrap': [True, False]} \n",
    "\n",
    "rfr_random = RandomizedSearchCV(estimator=rfc, param_distributions=r_grid, n_iter = 20, scoring='accuracy', cv = 3, verbose=2, random_state=42, n_jobs=-1, return_train_score=True)\n",
    "\n",
    "rfr_random.fit(X_train, y_train) \n",
    "\n",
    "print(rfr_random.best_params_)"
   ]
  },
  {
   "cell_type": "code",
   "execution_count": 8,
   "metadata": {},
   "outputs": [
    {
     "name": "stdout",
     "output_type": "stream",
     "text": [
      "Train C-Index: 0.9438361369210044\n",
      "Val C-Index : 0.8476834360707894\n"
     ]
    }
   ],
   "source": [
    "# ========================= Building the model ==============================\n",
    "rfc = RandomForestClassifier(n_estimators= 84, max_features= 'auto', max_depth= 5, bootstrap= False) \n",
    "rfc.fit(X_train, y_train) \n",
    "\n",
    "y_train_preds = rfc.predict_proba(X_train)[:, 1] \n",
    "y_test_preds = rfc.predict_proba(X_test)[:, 1] \n",
    "\n",
    "print(f\"Train C-Index: {cindex(y_train.values, y_train_preds)}\")\n",
    "print(f\"Val C-Index : {cindex(y_test.values, y_test_preds)}\")"
   ]
  },
  {
   "cell_type": "markdown",
   "metadata": {},
   "source": [
    "#### XGBoost "
   ]
  },
  {
   "cell_type": "code",
   "execution_count": 9,
   "metadata": {},
   "outputs": [
    {
     "name": "stdout",
     "output_type": "stream",
     "text": [
      "[0]\tvalidation_0-logloss:0.59035\n",
      "[1]\tvalidation_0-logloss:0.54348\n",
      "[2]\tvalidation_0-logloss:0.50695\n",
      "[3]\tvalidation_0-logloss:0.47708\n",
      "[4]\tvalidation_0-logloss:0.46051\n",
      "[5]\tvalidation_0-logloss:0.44754\n",
      "[6]\tvalidation_0-logloss:0.44518\n",
      "[7]\tvalidation_0-logloss:0.44170\n",
      "[8]\tvalidation_0-logloss:0.44845\n",
      "[9]\tvalidation_0-logloss:0.44976\n",
      "[10]\tvalidation_0-logloss:0.45432\n",
      "[11]\tvalidation_0-logloss:0.45450\n",
      "[12]\tvalidation_0-logloss:0.46526\n",
      "[13]\tvalidation_0-logloss:0.46121\n",
      "[14]\tvalidation_0-logloss:0.46607\n",
      "[15]\tvalidation_0-logloss:0.46622\n",
      "[16]\tvalidation_0-logloss:0.46497\n",
      "[17]\tvalidation_0-logloss:0.46399\n"
     ]
    },
    {
     "data": {
      "text/plain": [
       "XGBClassifier(base_score=0.5, booster='gbtree', colsample_bylevel=1,\n",
       "              colsample_bynode=1, colsample_bytree=1, gamma=0, gpu_id=-1,\n",
       "              importance_type='gain', interaction_constraints='',\n",
       "              learning_rate=0.300000012, max_delta_step=0, max_depth=6,\n",
       "              min_child_weight=1, missing=nan, monotone_constraints='()',\n",
       "              n_estimators=100, n_jobs=4, num_parallel_tree=1, random_state=0,\n",
       "              reg_alpha=0, reg_lambda=1, scale_pos_weight=1, subsample=1,\n",
       "              tree_method='exact', validate_parameters=1, verbosity=None)"
      ]
     },
     "execution_count": 9,
     "metadata": {},
     "output_type": "execute_result"
    }
   ],
   "source": [
    "# ============================= Building model in XGboost ============================= \n",
    "\n",
    "eval_set  = [(X_test, y_test)]\n",
    "\n",
    "xgb = XGBClassifier() \n",
    "xgb.fit(X_train, y_train,early_stopping_rounds=10, eval_metric=\"logloss\",eval_set=eval_set, verbose=True) "
   ]
  },
  {
   "cell_type": "code",
   "execution_count": 10,
   "metadata": {},
   "outputs": [
    {
     "name": "stdout",
     "output_type": "stream",
     "text": [
      "Train C-Index: 0.9734090935258425\n",
      "Val C-Index : 0.8528534499900576\n"
     ]
    }
   ],
   "source": [
    "y_train_preds = xgb.predict_proba(X_train)[:, 1] \n",
    "y_test_preds = xgb.predict_proba(X_test)[:, 1] \n",
    "\n",
    "print(f\"Train C-Index: {cindex(y_train.values, y_train_preds)}\")\n",
    "print(f\"Val C-Index : {cindex(y_test.values, y_test_preds)}\")"
   ]
  },
  {
   "cell_type": "code",
   "execution_count": 11,
   "metadata": {},
   "outputs": [
    {
     "data": {
      "image/png": "[encoded data removed]",
      "text/plain": [
       "<Figure size 432x288 with 1 Axes>"
      ]
     },
     "metadata": {
      "needs_background": "light"
     },
     "output_type": "display_data"
    }
   ],
   "source": [
    "from xgboost import plot_importance\n",
    "# xgb.feature_importances_ \n",
    "plot_importance(xgb)\n",
    "plt.show()"
   ]
  },
  {
   "cell_type": "code",
   "execution_count": 13,
   "metadata": {},
   "outputs": [
    {
     "name": "stdout",
     "output_type": "stream",
     "text": [
      "Fitting 2 folds for each of 7776 candidates, totalling 15552 fits\n"
     ]
    },
    {
     "name": "stderr",
     "output_type": "stream",
     "text": [
      "[Parallel(n_jobs=-1)]: Using backend LokyBackend with 4 concurrent workers.\n",
      "[Parallel(n_jobs=-1)]: Done  42 tasks      | elapsed:    2.3s\n",
      "[Parallel(n_jobs=-1)]: Done 292 tasks      | elapsed:   13.7s\n",
      "[Parallel(n_jobs=-1)]: Done 792 tasks      | elapsed:   36.3s\n",
      "[Parallel(n_jobs=-1)]: Done 1492 tasks      | elapsed:  1.1min\n",
      "[Parallel(n_jobs=-1)]: Done 2392 tasks      | elapsed:  1.6min\n",
      "[Parallel(n_jobs=-1)]: Done 3492 tasks      | elapsed:  2.4min\n",
      "[Parallel(n_jobs=-1)]: Done 4792 tasks      | elapsed:  3.4min\n",
      "[Parallel(n_jobs=-1)]: Done 6292 tasks      | elapsed:  4.8min\n",
      "[Parallel(n_jobs=-1)]: Done 7948 tasks      | elapsed:  6.2min\n",
      "[Parallel(n_jobs=-1)]: Done 9848 tasks      | elapsed:  7.9min\n",
      "[Parallel(n_jobs=-1)]: Done 11106 tasks      | elapsed:  9.2min\n",
      "[Parallel(n_jobs=-1)]: Done 12680 tasks      | elapsed: 10.8min\n",
      "[Parallel(n_jobs=-1)]: Done 14750 tasks      | elapsed: 12.9min\n",
      "[Parallel(n_jobs=-1)]: Done 15552 out of 15552 | elapsed: 13.9min finished\n"
     ]
    },
    {
     "name": "stdout",
     "output_type": "stream",
     "text": [
      "[10:19:14] WARNING: ..\\src\\learner.cc:1095: Starting in XGBoost 1.3.0, the default evaluation metric used with the objective 'binary:logistic' was changed from 'error' to 'logloss'. Explicitly set eval_metric if you'd like to restore the old behavior.\n"
     ]
    }
   ],
   "source": [
    "# ------------------- Tuning the XGboost Model --------------------------------  \n",
    "\n",
    "from sklearn.model_selection import GridSearchCV\n",
    "from sklearn.model_selection import StratifiedKFold\n",
    "\n",
    "n_estimators = [50, 100, 150, 200]\n",
    "max_depth = [2, 4, 6, 8]\n",
    "learning_rate = [0.0001, 0.001, 0.01, 0.1, 0.2, 0.3]\n",
    "subsample = [0.1, 0.2, 0.3, 0.4, 0.5, 0.6, 0.7, 0.8, 1.0]\n",
    "colsample_bytree = [0.1, 0.2, 0.3, 0.4, 0.5, 0.6, 0.7, 0.8, 1.0]\n",
    "\n",
    "param_grid = dict(n_estimators=n_estimators, max_depth = max_depth,  learning_rate = learning_rate,\n",
    "                subsample = subsample,\n",
    "                colsample_bytree = colsample_bytree)  \n",
    "\n",
    "grid_search = GridSearchCV(xgb, param_grid, scoring=\"neg_log_loss\", n_jobs=-1, cv=2, verbose=True)\n",
    "grid_result = grid_search.fit(X_train, y_train)"
   ]
  },
  {
   "cell_type": "code",
   "execution_count": 14,
   "metadata": {},
   "outputs": [
    {
     "data": {
      "text/plain": [
       "{'colsample_bytree': 1.0,\n",
       " 'learning_rate': 0.1,\n",
       " 'max_depth': 2,\n",
       " 'n_estimators': 50,\n",
       " 'subsample': 1.0}"
      ]
     },
     "execution_count": 14,
     "metadata": {},
     "output_type": "execute_result"
    }
   ],
   "source": [
    "grid_search.best_params_"
   ]
  },
  {
   "cell_type": "code",
   "execution_count": 12,
   "metadata": {},
   "outputs": [
    {
     "name": "stdout",
     "output_type": "stream",
     "text": [
      "[0]\tvalidation_0-logloss:0.66251\n",
      "[1]\tvalidation_0-logloss:0.63719\n",
      "[2]\tvalidation_0-logloss:0.61532\n",
      "[3]\tvalidation_0-logloss:0.59829\n",
      "[4]\tvalidation_0-logloss:0.58238\n",
      "[5]\tvalidation_0-logloss:0.56748\n",
      "[6]\tvalidation_0-logloss:0.55432\n",
      "[7]\tvalidation_0-logloss:0.54424\n",
      "[8]\tvalidation_0-logloss:0.53491\n",
      "[9]\tvalidation_0-logloss:0.52695\n",
      "[10]\tvalidation_0-logloss:0.51756\n",
      "[11]\tvalidation_0-logloss:0.51101\n",
      "[12]\tvalidation_0-logloss:0.50440\n",
      "[13]\tvalidation_0-logloss:0.50115\n",
      "[14]\tvalidation_0-logloss:0.49598\n",
      "[15]\tvalidation_0-logloss:0.49251\n",
      "[16]\tvalidation_0-logloss:0.48846\n",
      "[17]\tvalidation_0-logloss:0.48349\n",
      "[18]\tvalidation_0-logloss:0.48076\n",
      "[19]\tvalidation_0-logloss:0.47888\n",
      "[20]\tvalidation_0-logloss:0.47599\n",
      "[21]\tvalidation_0-logloss:0.47258\n",
      "[22]\tvalidation_0-logloss:0.47085\n",
      "[23]\tvalidation_0-logloss:0.46814\n",
      "[24]\tvalidation_0-logloss:0.46846\n",
      "[25]\tvalidation_0-logloss:0.46639\n",
      "[26]\tvalidation_0-logloss:0.46259\n",
      "[27]\tvalidation_0-logloss:0.46172\n",
      "[28]\tvalidation_0-logloss:0.45991\n",
      "[29]\tvalidation_0-logloss:0.45806\n",
      "[30]\tvalidation_0-logloss:0.45587\n",
      "[31]\tvalidation_0-logloss:0.45680\n",
      "[32]\tvalidation_0-logloss:0.45525\n",
      "[33]\tvalidation_0-logloss:0.45333\n",
      "[34]\tvalidation_0-logloss:0.45320\n",
      "[35]\tvalidation_0-logloss:0.45432\n",
      "[36]\tvalidation_0-logloss:0.45229\n",
      "[37]\tvalidation_0-logloss:0.45100\n",
      "[38]\tvalidation_0-logloss:0.45003\n",
      "[39]\tvalidation_0-logloss:0.45010\n",
      "[40]\tvalidation_0-logloss:0.45137\n",
      "[41]\tvalidation_0-logloss:0.44961\n",
      "[42]\tvalidation_0-logloss:0.44846\n",
      "[43]\tvalidation_0-logloss:0.44763\n",
      "[44]\tvalidation_0-logloss:0.44899\n",
      "[45]\tvalidation_0-logloss:0.44819\n",
      "[46]\tvalidation_0-logloss:0.44716\n",
      "[47]\tvalidation_0-logloss:0.44518\n",
      "[48]\tvalidation_0-logloss:0.44531\n",
      "[49]\tvalidation_0-logloss:0.44551\n"
     ]
    },
    {
     "data": {
      "text/plain": [
       "XGBClassifier(base_score=0.5, booster='gbtree', colsample_bylevel=1,\n",
       "              colsample_bynode=1, colsample_bytree=1.0, gamma=0, gpu_id=-1,\n",
       "              importance_type='gain', interaction_constraints='',\n",
       "              learning_rate=0.1, max_delta_step=0, max_depth=2,\n",
       "              min_child_weight=1, missing=nan, monotone_constraints='()',\n",
       "              n_estimators=50, n_jobs=4, num_parallel_tree=1, random_state=0,\n",
       "              reg_alpha=0, reg_lambda=1, scale_pos_weight=1, subsample=1.0,\n",
       "              tree_method='exact', validate_parameters=1, verbosity=None)"
      ]
     },
     "execution_count": 12,
     "metadata": {},
     "output_type": "execute_result"
    }
   ],
   "source": [
    "xgb1 = XGBClassifier(colsample_bytree= 1.0,\n",
    " learning_rate = 0.1,\n",
    " max_depth = 2,\n",
    " n_estimators= 50,\n",
    " subsample= 1.0) \n",
    "xgb1.fit(X_train, y_train,early_stopping_rounds=10, eval_metric=\"logloss\",eval_set=eval_set, verbose=True) "
   ]
  },
  {
   "cell_type": "code",
   "execution_count": 13,
   "metadata": {},
   "outputs": [
    {
     "name": "stdout",
     "output_type": "stream",
     "text": [
      "Train C-Index: 0.892415921154134\n",
      "Val C-Index : 0.8450984291111553\n"
     ]
    }
   ],
   "source": [
    "y_train_preds = xgb1.predict_proba(X_train)[:, 1] \n",
    "y_test_preds = xgb1.predict_proba(X_test)[:, 1] \n",
    "\n",
    "print(f\"Train C-Index: {cindex(y_train.values, y_train_preds)}\")\n",
    "print(f\"Val C-Index : {cindex(y_test.values, y_test_preds)}\")"
   ]
  },
  {
   "cell_type": "markdown",
   "metadata": {},
   "source": [
    "#### Catboost "
   ]
  },
  {
   "cell_type": "code",
   "execution_count": 14,
   "metadata": {},
   "outputs": [
    {
     "data": {
      "application/vnd.jupyter.widget-view+json": {
       "model_id": "c45b44c8d21f417fa7ad27687b8289df",
       "version_major": 2,
       "version_minor": 0
      },
      "text/plain": [
       "MetricVisualizer(layout=Layout(align_self='stretch', height='500px'))"
      ]
     },
     "metadata": {},
     "output_type": "display_data"
    },
    {
     "data": {
      "text/plain": [
       "<catboost.core.CatBoostClassifier at 0x19cbee9cf70>"
      ]
     },
     "execution_count": 14,
     "metadata": {},
     "output_type": "execute_result"
    }
   ],
   "source": [
    "catboost = CatBoostClassifier(iterations=50,\n",
    "                             learning_rate=0.0001,\n",
    "                             random_seed=42,\n",
    "                            custom_loss=['AUC', 'Accuracy']) \n",
    "catboost.fit(X_train, y_train, eval_set = eval_set, verbose=False, plot=True)"
   ]
  },
  {
   "cell_type": "code",
   "execution_count": 15,
   "metadata": {},
   "outputs": [
    {
     "name": "stdout",
     "output_type": "stream",
     "text": [
      "Train C-Index: 0.8609604734436347\n",
      "Val C-Index : 0.8492742095844105\n"
     ]
    }
   ],
   "source": [
    "y_train_preds = catboost.predict_proba(X_train)[:, 1] \n",
    "y_test_preds = catboost.predict_proba(X_test)[:, 1] \n",
    "\n",
    "print(f\"Train C-Index: {cindex(y_train.values, y_train_preds)}\")\n",
    "print(f\"Val C-Index : {cindex(y_test.values, y_test_preds)}\")"
   ]
  },
  {
   "cell_type": "markdown",
   "metadata": {},
   "source": [
    "#### Saving the model  \n",
    "\n",
    "It seems like Catboost in more Robust as compare to other models, so we will save Catboost Classifier as our final model"
   ]
  },
  {
   "cell_type": "code",
   "execution_count": 16,
   "metadata": {},
   "outputs": [
    {
     "data": {
      "text/plain": [
       "array([1, 0, 0, 1, 0, 0, 1, 1, 0, 0, 1, 1, 0, 0, 0, 0, 1, 0, 0, 0, 1, 0,\n",
       "       0, 0, 0, 0, 0, 1, 0, 0, 0, 0, 0, 0, 0, 1, 0, 0, 0, 1, 0, 0, 0, 1,\n",
       "       1, 0, 0, 0, 0, 0, 0, 0, 1, 1, 0, 0, 0, 0, 0, 0, 1, 1, 0, 1, 1, 1,\n",
       "       1, 0, 0, 0, 0, 0, 0, 1, 1, 0, 0, 1, 0, 0, 0, 0, 0, 0, 0, 0, 0, 0,\n",
       "       1, 0, 0, 0, 0, 0, 1, 0, 0, 1, 0, 0, 0, 0, 0, 0, 0, 0, 0, 0, 0, 1,\n",
       "       0, 0, 1, 1, 1, 1, 0, 1, 0, 0, 0, 0, 0, 0, 0, 0, 0, 0, 0, 0, 0, 0,\n",
       "       0, 1, 0, 0, 0, 0, 0, 0, 0, 1, 0, 0, 0, 0, 0, 0, 0, 0, 0, 0, 0, 0],\n",
       "      dtype=int64)"
      ]
     },
     "execution_count": 16,
     "metadata": {},
     "output_type": "execute_result"
    }
   ],
   "source": [
    "import joblib \n",
    "joblib.dump(catboost, \"model.pkl\") \n",
    "model = joblib.load('model.pkl' ) \n",
    "model.predict(X_test)"
   ]
  },
  {
   "cell_type": "code",
   "execution_count": 18,
   "metadata": {},
   "outputs": [],
   "source": [
    "obj = model.predict([[6,148,72,35,0,33.6,0.627,50]])"
   ]
  },
  {
   "cell_type": "code",
   "execution_count": 21,
   "metadata": {},
   "outputs": [
    {
     "data": {
      "text/plain": [
       "array([1], dtype=int64)"
      ]
     },
     "execution_count": 21,
     "metadata": {},
     "output_type": "execute_result"
    }
   ],
   "source": [
    "obj"
   ]
  },
  {
   "cell_type": "code",
   "execution_count": 20,
   "metadata": {},
   "outputs": [
    {
     "data": {
      "text/plain": [
       "['XGboost.pkl']"
      ]
     },
     "execution_count": 20,
     "metadata": {},
     "output_type": "execute_result"
    }
   ],
   "source": [
    "joblib.dump(xgb1, \"XGboost.pkl\") "
   ]
  },
  {
   "cell_type": "code",
   "execution_count": null,
   "metadata": {},
   "outputs": [],
   "source": []
  }
 ],
 "metadata": {
  "kernelspec": {
   "display_name": "Python 3",
   "language": "python",
   "name": "python3"
  },
  "language_info": {
   "codemirror_mode": {
    "name": "ipython",
    "version": 3
   },
   "file_extension": ".py",
   "mimetype": "text/x-python",
   "name": "python",
   "nbconvert_exporter": "python",
   "pygments_lexer": "ipython3",
   "version": "3.8.3"
  }
 },
 "nbformat": 4,
 "nbformat_minor": 4
}
